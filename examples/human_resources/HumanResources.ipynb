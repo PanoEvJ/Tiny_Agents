{
 "cells": [
  {
   "cell_type": "code",
   "execution_count": 27,
   "metadata": {},
   "outputs": [],
   "source": [
    "# Write a class with the following sudo code:\n",
    "# class HumanResources() → [agents_list]:\n",
    "# \tload the json file with all the agent descriptions\n",
    "# \toutput the list of agents\n",
    "# \tprovide a method called select_agents() that takes a json of agents and returns a list of agents in the json\n",
    "\n",
    "import json\n",
    "\n",
    "sample_agent_json = {\n",
    "    \"sales\": {\n",
    "        \"name\": \"sales\",\n",
    "        \"description\": \"sales agents\",\n",
    "        \"skills\": [\"sales\", \"customer service\", \"communication\"]\n",
    "    },\n",
    "    \"marketing\": {\n",
    "        \"name\": \"marketing\",\n",
    "        \"description\": \"marketing agents\",\n",
    "        \"skills\": [\"marketing\", \"communication\"]\n",
    "    },\n",
    "    \"engineer\": {\n",
    "        \"name\": \"engineer\",\n",
    "        \"description\": \"engineers\",\n",
    "        \"skills\": [\"python\", \"linux\", \"communication\"]\n",
    "    \n",
    "    }\n",
    "}\n",
    "\n",
    "class HumanResources():\n",
    "    def __init__(self):\n",
    "        self.agent_json = sample_agent_json\n",
    "\n",
    "    def __repr__(self):\n",
    "        return f'{self.agents}'\n",
    "    \n",
    "    def _create(self, new_agent):\n",
    "        self.agent_json[new_agent[\"name\"]] = new_agent\n",
    "        return self.agent_json[new_agent[\"name\"]]\n",
    "    \n",
    "    def _read(self, agent_name):\n",
    "        return self.agent_json[agent_name]\n",
    "    \n",
    "    def _update(self, agent_name, new_agent):\n",
    "        self.agent_json[agent_name] = new_agent\n",
    "        return self.agent_json[agent_name]\n",
    "    \n",
    "    def _delete(self, agent_name):\n",
    "        del self.agent_json[agent_name]\n",
    "        return self.agent_json\n",
    "    \n",
    "    def agent_object(self, agent_name):\n",
    "        return self.agent_json[agent_name]\n",
    "    \n",
    "    def select_agents(self):\n",
    "        return list(self.agent_json.keys())"
   ]
  },
  {
   "cell_type": "code",
   "execution_count": 16,
   "metadata": {},
   "outputs": [
    {
     "data": {
      "text/plain": [
       "['sales', 'marketing', 'engineer']"
      ]
     },
     "execution_count": 16,
     "metadata": {},
     "output_type": "execute_result"
    }
   ],
   "source": [
    "HumanResources().select_agents()"
   ]
  },
  {
   "cell_type": "code",
   "execution_count": 17,
   "metadata": {},
   "outputs": [
    {
     "data": {
      "text/plain": [
       "{'name': 'engineer',\n",
       " 'description': 'engineers',\n",
       " 'skills': ['python', 'linux', 'communication']}"
      ]
     },
     "execution_count": 17,
     "metadata": {},
     "output_type": "execute_result"
    }
   ],
   "source": [
    "HumanResources().agent_object('engineer')"
   ]
  },
  {
   "cell_type": "code",
   "execution_count": 18,
   "metadata": {},
   "outputs": [
    {
     "data": {
      "text/plain": [
       "{'name': 'engineer',\n",
       " 'description': 'engineers',\n",
       " 'skills': ['python', 'linux', 'communication']}"
      ]
     },
     "execution_count": 18,
     "metadata": {},
     "output_type": "execute_result"
    }
   ],
   "source": [
    "HumanResources()._read('engineer')"
   ]
  },
  {
   "cell_type": "code",
   "execution_count": 24,
   "metadata": {},
   "outputs": [
    {
     "data": {
      "text/plain": [
       "{'name': 'executive',\n",
       " 'description': 'executives',\n",
       " 'skills': ['big', 'dick', 'energy']}"
      ]
     },
     "execution_count": 24,
     "metadata": {},
     "output_type": "execute_result"
    }
   ],
   "source": [
    "HumanResources()._create(\n",
    "    {\n",
    "        \"name\": \"executive\",\n",
    "        \"description\": \"executives\",\n",
    "        \"skills\": [\"big\", \"dick\", \"energy\"]\n",
    "    \n",
    "    }\n",
    ")"
   ]
  },
  {
   "cell_type": "code",
   "execution_count": 25,
   "metadata": {},
   "outputs": [
    {
     "data": {
      "text/plain": [
       "{'name': 'executive',\n",
       " 'description': 'executives',\n",
       " 'skills': ['chief', 'executive', 'officer']}"
      ]
     },
     "execution_count": 25,
     "metadata": {},
     "output_type": "execute_result"
    }
   ],
   "source": [
    "HumanResources()._update(\n",
    "    \"executive\",\n",
    "    {\n",
    "        \"name\": \"executive\",\n",
    "        \"description\": \"executives\",\n",
    "        \"skills\": [\"chief\", \"executive\", \"officer\"]\n",
    "    \n",
    "    }\n",
    ")"
   ]
  },
  {
   "cell_type": "code",
   "execution_count": 26,
   "metadata": {},
   "outputs": [
    {
     "data": {
      "text/plain": [
       "{'sales': {'name': 'sales',\n",
       "  'description': 'sales agents',\n",
       "  'skills': ['sales', 'customer service', 'communication']},\n",
       " 'marketing': {'name': 'marketing',\n",
       "  'description': 'marketing agents',\n",
       "  'skills': ['marketing', 'communication']},\n",
       " 'engineer': {'name': 'engineer',\n",
       "  'description': 'engineers',\n",
       "  'skills': ['python', 'linux', 'communication']}}"
      ]
     },
     "execution_count": 26,
     "metadata": {},
     "output_type": "execute_result"
    }
   ],
   "source": [
    "HumanResources()._delete(\"executive\")"
   ]
  },
  {
   "cell_type": "code",
   "execution_count": 42,
   "metadata": {},
   "outputs": [
    {
     "data": {
      "text/plain": [
       "['sales', 'marketing', 'engineer']"
      ]
     },
     "execution_count": 42,
     "metadata": {},
     "output_type": "execute_result"
    }
   ],
   "source": [
    "HumanResources()._create(\n",
    "    {\n",
    "        \"name\": \"executive\",\n",
    "        \"description\": \"executives\",\n",
    "        \"skills\": [\"big\", \"dick\", \"energy\"]\n",
    "    \n",
    "    }\n",
    ")\n",
    "temp_json = HumanResources()._delete(\"executive\")\n",
    "list(temp_json.keys())"
   ]
  }
 ],
 "metadata": {
  "kernelspec": {
   "display_name": "tinyagents",
   "language": "python",
   "name": "python3"
  },
  "language_info": {
   "codemirror_mode": {
    "name": "ipython",
    "version": 3
   },
   "file_extension": ".py",
   "mimetype": "text/x-python",
   "name": "python",
   "nbconvert_exporter": "python",
   "pygments_lexer": "ipython3",
   "version": "3.11.3"
  }
 },
 "nbformat": 4,
 "nbformat_minor": 2
}
