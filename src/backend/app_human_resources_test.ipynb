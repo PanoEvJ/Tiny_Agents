{
 "cells": [
  {
   "cell_type": "code",
   "execution_count": 34,
   "metadata": {},
   "outputs": [],
   "source": [
    "import json\n",
    "import os\n",
    "\n",
    "# Get the current working directory\n",
    "CURRENT_DIR = os.getcwd()\n",
    "\n",
    "# Assuming your 'agents.json' file is in the same directory as the notebook\n",
    "FILE_PATH = os.path.join(CURRENT_DIR, 'agents.json')\n",
    "\n",
    "# Check if the file exists and read it, otherwise create an empty dictionary\n",
    "if os.path.exists(FILE_PATH):\n",
    "    with open(FILE_PATH) as f:\n",
    "        sample_agent_json = json.load(f)\n",
    "else:\n",
    "    sample_agent_json = {}\n",
    "\n",
    "class HumanResources():\n",
    "    def __init__(self, chat_initiator):\n",
    "        self.agent_json = sample_agent_json\n",
    "        self.chat_initiator = chat_initiator \n",
    "\n",
    "    def __repr__(self):\n",
    "        return f'{self.agent_json}'\n",
    "\n",
    "    def _create(self, new_agent):\n",
    "        # Check if 'role' key exists in new_agent dictionary\n",
    "        role = new_agent.get('role')\n",
    "        if role is None:\n",
    "            return \"Missing 'role' key, agent not created\"\n",
    "\n",
    "        new_agent['agent_type'] = 'userproxy' if role == self.chat_initiator else 'assistant'\n",
    "        new_agent['description'] = f\"{role} expert\"\n",
    "        new_agent['human_input_mode'] = \"\"\n",
    "        new_agent['skills'] = [role]\n",
    "\n",
    "        if role not in self.agent_json or not isinstance(self.agent_json[role], list):\n",
    "            self.agent_json[role] = []\n",
    "        self.agent_json[role].append(new_agent)\n",
    "        self._save_to_file()\n",
    "\n",
    "        return new_agent\n",
    "\n",
    "    def _read(self, agent_role):\n",
    "        return self.agent_json.get(agent_role, \"Agent role not found\")\n",
    "\n",
    "    def _update(self, agent_role, new_agent):\n",
    "        if agent_role not in self.agent_json:\n",
    "            return \"Agent role not found\"\n",
    "\n",
    "        new_agent['agent_type'] = 'userproxy' if new_agent['role'] == self.chat_initiator else 'assistant'\n",
    "        new_agent['description'] = new_agent.get('description', f\"{new_agent['role']} expert\")\n",
    "        new_agent['human_input_mode'] = new_agent.get('human_input_mode', \"\")\n",
    "        new_agent['skills'] = new_agent.get('skills', [new_agent['role']])\n",
    "\n",
    "        self.agent_json[agent_role] = new_agent\n",
    "        self._save_to_file()\n",
    "        return self.agent_json[agent_role]\n",
    "\n",
    "    def _delete(self, agent_role):\n",
    "        if agent_role not in self.agent_json:\n",
    "            raise ValueError(f\"Agent with role '{agent_role}' does not exist.\")\n",
    "        del self.agent_json[agent_role]\n",
    "        self._save_to_file()\n",
    "        return \"Agent deleted successfully\"\n",
    "\n",
    "    def agent_object(self, agent_role):\n",
    "        return self.agent_json.get(agent_role, \"Agent role not found\")\n",
    "\n",
    "\n",
    "    def select_agents(self):\n",
    "        return list(self.agent_json.keys())\n",
    "    \n",
    "    def get_complete(self, roles_list):\n",
    "        result = []\n",
    "        for role in roles_list:\n",
    "            agents = self.agent_json.get(role, [])\n",
    "            if agents:\n",
    "                result.extend(agents)  # Ensure that agents is a list of dictionaries\n",
    "        return result\n",
    "\n",
    "    def _save_to_file(self):\n",
    "        with open(FILE_PATH, 'w') as f:\n",
    "            json.dump(self.agent_json, f, indent=4)\n"
   ]
  },
  {
   "cell_type": "code",
   "execution_count": 35,
   "metadata": {},
   "outputs": [],
   "source": [
    "CHAT_INITIATOR = 'finance' \n",
    "\n",
    "# Example usage\n",
    "hr = HumanResources(CHAT_INITIATOR)"
   ]
  },
  {
   "cell_type": "code",
   "execution_count": 32,
   "metadata": {},
   "outputs": [
    {
     "name": "stdout",
     "output_type": "stream",
     "text": [
      "['sales', 'marketing', 'engineer', 'Analyst', 'finance', 'management']\n"
     ]
    }
   ],
   "source": [
    "new_agent = {\"name\": \"Agent Smith\", \"role\": \"Analyst\", \"description\": \"Data Analysis\"}\n",
    "hr._create(new_agent)\n",
    "\n",
    "# Print updated agents\n",
    "print(hr.select_agents())"
   ]
  },
  {
   "cell_type": "code",
   "execution_count": 37,
   "metadata": {},
   "outputs": [
    {
     "name": "stdout",
     "output_type": "stream",
     "text": [
      "[{'name': 'Mary', 'role': 'marketing', 'agent_type': 'assistant', 'description': 'marketing expert', 'human_input_mode': '', 'skills': ['marketing']}, {'name': 'Claude', 'role': 'sales', 'agent_type': 'assistant', 'description': 'sales expert', 'human_input_mode': '', 'skills': ['sales']}]\n"
     ]
    }
   ],
   "source": [
    "roles = ['marketing', 'sales']\n",
    "agents_with_roles = hr.get_complete(roles)\n",
    "\n",
    "print(agents_with_roles)"
   ]
  },
  {
   "cell_type": "code",
   "execution_count": 36,
   "metadata": {},
   "outputs": [],
   "source": [
    "if __name__ == \"__main__\":\n",
    "    # assert _create() returns a new agent object: {'name': 'finance', 'title': 'finance manager'}\n",
    "    hr._create({\"name\": \"John\", \"role\": \"finance\"})    \n",
    "    hr._create({\"name\": \"Claude\", \"role\": \"sales\"})\n",
    "    hr._create({\"name\": \"Mary\", \"role\": \"marketing\"})\n",
    "    hr._create({\"name\": \"Alice\", \"role\": \"management\"})    "
   ]
  },
  {
   "cell_type": "code",
   "execution_count": null,
   "metadata": {},
   "outputs": [],
   "source": []
  }
 ],
 "metadata": {
  "kernelspec": {
   "display_name": "Python 3",
   "language": "python",
   "name": "python3"
  },
  "language_info": {
   "codemirror_mode": {
    "name": "ipython",
    "version": 3
   },
   "file_extension": ".py",
   "mimetype": "text/x-python",
   "name": "python",
   "nbconvert_exporter": "python",
   "pygments_lexer": "ipython3",
   "version": "3.10.10"
  }
 },
 "nbformat": 4,
 "nbformat_minor": 2
}
